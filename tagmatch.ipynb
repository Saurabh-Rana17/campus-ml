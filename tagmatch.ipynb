{
 "cells": [
  {
   "cell_type": "code",
   "execution_count": 7,
   "metadata": {},
   "outputs": [
    {
     "name": "stdout",
     "output_type": "stream",
     "text": [
      "Tech Club: 0.17\n",
      "Drama Club: 0.40\n",
      "Sports Club: 0.17\n"
     ]
    }
   ],
   "source": [
    "# Example user tags\n",
    "user_tags = {\"acting\", \"outdoor\", \"AI\",'theatre'}\n",
    "\n",
    "# Committee tags as a dictionary\n",
    "committee_tags = {\n",
    "    \"Tech Club\": {\"coding\", \"robotics\", \"AI\"},\n",
    "    \"Drama Club\": {\"acting\", \"theatre\", \"drama\"},\n",
    "    \"Sports Club\": {\"sports\", \"fitness\", \"outdoor\"}\n",
    "}\n",
    "\n",
    "# Function to calculate Jaccard Similarity\n",
    "def jaccard_similarity(set1, set2):\n",
    "    intersection = len(set1 & set2)\n",
    "    union = len(set1 | set2)\n",
    "    return intersection / union if union > 0 else 0\n",
    "\n",
    "# Calculate tag match for each committee\n",
    "tag_match_scores = {\n",
    "    committee: jaccard_similarity(user_tags, tags)\n",
    "    for committee, tags in committee_tags.items()\n",
    "}\n",
    "\n",
    "# Display tag match scores\n",
    "for committee, score in tag_match_scores.items():\n",
    "    print(f\"{committee}: {score:.2f}\")\n"
   ]
  }
 ],
 "metadata": {
  "kernelspec": {
   "display_name": "Python 3",
   "language": "python",
   "name": "python3"
  },
  "language_info": {
   "codemirror_mode": {
    "name": "ipython",
    "version": 3
   },
   "file_extension": ".py",
   "mimetype": "text/x-python",
   "name": "python",
   "nbconvert_exporter": "python",
   "pygments_lexer": "ipython3",
   "version": "3.13.0"
  }
 },
 "nbformat": 4,
 "nbformat_minor": 2
}
