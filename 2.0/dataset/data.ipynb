{
 "cells": [
  {
   "cell_type": "code",
   "execution_count": 17,
   "metadata": {},
   "outputs": [
    {
     "name": "stdout",
     "output_type": "stream",
     "text": [
      "Dataset saved as 'committee_data.csv'\n"
     ]
    }
   ],
   "source": [
    "import pandas as pd\n",
    "import numpy as np\n",
    "\n",
    "# Generating the dataset\n",
    "np.random.seed(42)\n",
    "\n",
    "n_committees = 5000\n",
    "committee_ids = np.arange(1, n_committees + 1)\n",
    "committee_members = np.random.randint(10, 100, size=n_committees)\n",
    "recent_posts = np.random.randint(5, 60, size=n_committees)\n",
    "events = np.random.randint(5, 30, size=n_committees)\n",
    "user_rating = np.round(np.random.uniform(1.0, 10.0, size=n_committees), 1)\n",
    "\n",
    "# Creating a DataFrame\n",
    "df = pd.DataFrame({\n",
    "    'committee_id': committee_ids,\n",
    "    'committee_members': committee_members,\n",
    "    'recent_posts': recent_posts,\n",
    "    'events': events,\n",
    "    'user_rating': user_rating\n",
    "})\n",
    "\n",
    "\n",
    "# Saving the dataset to a CSV file\n",
    "df.to_csv('committee_data.csv', index=False)\n",
    "\n",
    "# Confirming the file is saved\n",
    "print(\"Dataset saved as 'committee_data.csv'\")\n"
   ]
  },
  {
   "cell_type": "code",
   "execution_count": 43,
   "metadata": {},
   "outputs": [
    {
     "name": "stdout",
     "output_type": "stream",
     "text": [
      "Dataset saved as 'committee_data_realistic.csv'\n"
     ]
    }
   ],
   "source": [
    "import pandas as pd\n",
    "import numpy as np\n",
    "\n",
    "# Set seed for reproducibility\n",
    "np.random.seed(42)\n",
    "\n",
    "# Define the number of committees\n",
    "n_committees = 5000\n",
    "\n",
    "# Committee ID (simple sequential numbers)\n",
    "committee_ids = np.arange(1, n_committees + 1)\n",
    "\n",
    "# Committee members (normal distribution with higher variance)\n",
    "committee_members = np.random.normal(loc=30, scale=15, size=n_committees).astype(int)\n",
    "# Clip the values between 10 and 100\n",
    "committee_members = np.clip(committee_members, 3, 100)\n",
    "\n",
    "\n",
    "\n",
    "# Recent posts (Gamma distribution)\n",
    "# We define the shape and scale for the Gamma distribution\n",
    "shape = 2.0  # Shape parameter, higher values make the distribution more spread out\n",
    "scale = 10   # Scale parameter, it affects the average value\n",
    "\n",
    "recent_posts = np.random.gamma(shape, scale, size=n_committees)\n",
    "\n",
    "# Ensure values are between 5 and 60\n",
    "recent_posts = np.clip(recent_posts, 3.5, 60)\n",
    "\n",
    "\n",
    "# Events (normal distribution with skew for some committees to have many events)\n",
    "events = np.random.normal(loc=15, scale=5, size=n_committees).astype(int)\n",
    "events = np.clip(events, 5, 30)  # Ensure values between 5 and 30\n",
    "\n",
    "# User rating (normal distribution centered around 7 with some skew)\n",
    "user_rating = np.random.normal(loc=7.0, scale=2.0, size=n_committees).round(1)\n",
    "user_rating = np.clip(user_rating, 1.0, 10.0)  # Ensure values between 1.0 and 10.0\n",
    "\n",
    "# Introduce correlation between committee members and events\n",
    "# More members might lead to more events, hence a positive correlation\n",
    "events = events + (committee_members - 30) // 3  # Slight positive correlation\n",
    "\n",
    "# Create DataFrame\n",
    "df = pd.DataFrame({\n",
    "    'committee_id': committee_ids,\n",
    "    'committee_members': committee_members,\n",
    "    'recent_posts': recent_posts,\n",
    "    'events': events,\n",
    "    'user_rating': user_rating\n",
    "})\n",
    "\n",
    "# Saving the dataset to a CSV file\n",
    "df.to_csv('committee_data_realistic.csv', index=False)\n",
    "\n",
    "# Confirming the file is saved\n",
    "print(\"Dataset saved as 'committee_data_realistic.csv'\")\n"
   ]
  },
  {
   "cell_type": "code",
   "execution_count": null,
   "metadata": {},
   "outputs": [],
   "source": []
  }
 ],
 "metadata": {
  "kernelspec": {
   "display_name": "Python 3",
   "language": "python",
   "name": "python3"
  },
  "language_info": {
   "codemirror_mode": {
    "name": "ipython",
    "version": 3
   },
   "file_extension": ".py",
   "mimetype": "text/x-python",
   "name": "python",
   "nbconvert_exporter": "python",
   "pygments_lexer": "ipython3",
   "version": "3.13.0"
  }
 },
 "nbformat": 4,
 "nbformat_minor": 2
}
